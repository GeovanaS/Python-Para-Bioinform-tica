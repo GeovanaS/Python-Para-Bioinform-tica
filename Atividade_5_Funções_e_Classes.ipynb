{
  "nbformat": 4,
  "nbformat_minor": 0,
  "metadata": {
    "colab": {
      "name": "Atividade 5. Funções e Classes.ipynb",
      "provenance": [],
      "collapsed_sections": []
    },
    "kernelspec": {
      "name": "python3",
      "display_name": "Python 3"
    }
  },
  "cells": [
    {
      "cell_type": "markdown",
      "metadata": {
        "id": "RqmHYwdHIzym"
      },
      "source": [
        "# **Aula 5**\r\n",
        "## **Funções**"
      ]
    },
    {
      "cell_type": "code",
      "metadata": {
        "id": "GWZa4nj0I6Tm"
      },
      "source": [
        "def sum(a, b):\r\n",
        "  c = a + b\r\n",
        "  return c  "
      ],
      "execution_count": null,
      "outputs": []
    },
    {
      "cell_type": "code",
      "metadata": {
        "colab": {
          "base_uri": "https://localhost:8080/"
        },
        "id": "WjNSCqYjJYjk",
        "outputId": "5ab17041-73bb-423f-f4e2-dd8fba016e4d"
      },
      "source": [
        "result = sum(5, 7)\r\n",
        "print(result)"
      ],
      "execution_count": null,
      "outputs": [
        {
          "output_type": "stream",
          "text": [
            "12\n"
          ],
          "name": "stdout"
        }
      ]
    },
    {
      "cell_type": "markdown",
      "metadata": {
        "id": "b727eEJYJxuW"
      },
      "source": [
        "## Exemplo 1: conteudo GC"
      ]
    },
    {
      "cell_type": "code",
      "metadata": {
        "id": "viH4wciSJcFr"
      },
      "source": [
        "def gc_content(dna_sequence):\r\n",
        "  dna_sequence_len = len(dna_sequence)\r\n",
        "  gc_count = 0\r\n",
        "  for base in dna_sequence:\r\n",
        "    if base == 'g' or base == 'c':\r\n",
        "       gc_count = gc_count + 1\r\n",
        "  gc_content = gc_count/dna_sequence_len\r\n",
        "  return gc_content"
      ],
      "execution_count": null,
      "outputs": []
    },
    {
      "cell_type": "code",
      "metadata": {
        "colab": {
          "base_uri": "https://localhost:8080/"
        },
        "id": "Q_6bX0kkKvEq",
        "outputId": "beb70238-c6f2-493e-a01f-c546886f4a18"
      },
      "source": [
        "gc_content('atgagagacttaggg')"
      ],
      "execution_count": null,
      "outputs": [
        {
          "output_type": "execute_result",
          "data": {
            "text/plain": [
              "0.4666666666666667"
            ]
          },
          "metadata": {
            "tags": []
          },
          "execution_count": 61
        }
      ]
    },
    {
      "cell_type": "code",
      "metadata": {
        "colab": {
          "base_uri": "https://localhost:8080/"
        },
        "id": "jigTqtPmLKVR",
        "outputId": "835ab0bc-22d9-475b-8c45-995adb1f5cfc"
      },
      "source": [
        "gc_content('atcgcgta')"
      ],
      "execution_count": null,
      "outputs": [
        {
          "output_type": "execute_result",
          "data": {
            "text/plain": [
              "0.5"
            ]
          },
          "metadata": {
            "tags": []
          },
          "execution_count": 62
        }
      ]
    },
    {
      "cell_type": "markdown",
      "metadata": {
        "id": "DyyjIhs0LWuO"
      },
      "source": [
        "## Exemplo 2: transcrição"
      ]
    },
    {
      "cell_type": "code",
      "metadata": {
        "id": "yWyejzc6Lbz4"
      },
      "source": [
        "def transcribe(dna_sequence):\r\n",
        "  rna_sequence = \"\"\r\n",
        "  for base in dna_sequence:\r\n",
        "    if base == 't':\r\n",
        "      rna_sequence = rna_sequence + 'u'\r\n",
        "    else:\r\n",
        "       rna_sequence = rna_sequence + base\r\n",
        "  return rna_sequence"
      ],
      "execution_count": null,
      "outputs": []
    },
    {
      "cell_type": "code",
      "metadata": {
        "id": "Z0iuRQQGMxl7"
      },
      "source": [
        "# exemplo mais simples do exemplo anterior\r\n",
        "def transcribe(dna_sequence):\r\n",
        "  rna_sequence = dna_sequence.replace('t','u')\r\n",
        "  return rna_sequence"
      ],
      "execution_count": null,
      "outputs": []
    },
    {
      "cell_type": "code",
      "metadata": {
        "colab": {
          "base_uri": "https://localhost:8080/",
          "height": 35
        },
        "id": "PzQd11Z8NUJG",
        "outputId": "a8f7f3b0-10d4-4627-b5af-986bbb3431b1"
      },
      "source": [
        "transcribe('atcgcgta')"
      ],
      "execution_count": null,
      "outputs": [
        {
          "output_type": "execute_result",
          "data": {
            "application/vnd.google.colaboratory.intrinsic+json": {
              "type": "string"
            },
            "text/plain": [
              "'aucgcgua'"
            ]
          },
          "metadata": {
            "tags": []
          },
          "execution_count": 65
        }
      ]
    },
    {
      "cell_type": "markdown",
      "metadata": {
        "id": "E5T54peuNdW2"
      },
      "source": [
        "## Exemplo 3: tradução"
      ]
    },
    {
      "cell_type": "code",
      "metadata": {
        "colab": {
          "base_uri": "https://localhost:8080/",
          "height": 35
        },
        "id": "ymMlPI6vNje4",
        "outputId": "4410d2c6-0b2f-4898-d0fb-f129da3eec14"
      },
      "source": [
        "genetic_code = { \r\n",
        "  'ata':'i', 'atc':'i', 'att':'i', 'atg':'m', \r\n",
        "  'aca':'t', 'acc':'t', 'acg':'t', 'act':'t', \r\n",
        "  'aac':'n', 'aat':'n', 'aaa':'k', 'aag':'k', \r\n",
        "  'agc':'s', 'agt':'s', 'aga':'r', 'agg':'r',\r\n",
        "  'cta':'l', 'ctc':'l', 'ctg':'l', 'ctt':'l', \r\n",
        "  'cca':'p', 'ccc':'p', 'ccg':'p', 'cct':'p', \r\n",
        "  'cac':'h', 'cat':'h', 'caa':'q', 'cag':'q', \r\n",
        "  'cga':'r', 'cgc':'r', 'cgg':'r', 'cgt':'r', \r\n",
        "  'gta':'v', 'gtc':'v', 'gtg':'v', 'gtt':'v', \r\n",
        "  'gca':'a', 'gcc':'a', 'gcg':'a', 'gct':'a', \r\n",
        "  'gac':'d', 'gat':'d', 'gaa':'e', 'gag':'e', \r\n",
        "  'gga':'g', 'ggc':'g', 'ggg':'g', 'ggt':'g', \r\n",
        "  'tca':'s', 'tcc':'s', 'tcg':'s', 'tct':'s', \r\n",
        "  'ttc':'f', 'ttt':'f', 'tta':'l', 'ttg':'l', \r\n",
        "  'tac':'y', 'tat':'y', 'taa':'*', 'tag':'*', \r\n",
        "  'tgc':'c', 'tgt':'c', 'tga':'*', 'tgg':'w', \r\n",
        "}\r\n",
        "\r\n",
        "\r\n",
        "def translate(dna_sequence):\r\n",
        "  dna_sequence_len = len(dna_sequence)\r\n",
        "  protein_sequence = \"\"\r\n",
        "  for position in range(0, dna_sequence_len, 3):\r\n",
        "    codon = dna_sequence[position:position+3]\r\n",
        "    #print(codon)\r\n",
        "    if len(codon) == 3:\r\n",
        "       aminoacid = genetic_code[codon]\r\n",
        "       protein_sequence = protein_sequence + aminoacid\r\n",
        "  return protein_sequence\r\n",
        "\r\n",
        "\r\n",
        "translate('atgcccgggtaaaaa')\r\n"
      ],
      "execution_count": null,
      "outputs": [
        {
          "output_type": "execute_result",
          "data": {
            "application/vnd.google.colaboratory.intrinsic+json": {
              "type": "string"
            },
            "text/plain": [
              "'mpg*k'"
            ]
          },
          "metadata": {
            "tags": []
          },
          "execution_count": 66
        }
      ]
    },
    {
      "cell_type": "markdown",
      "metadata": {
        "id": "UWYyn1IgSoVY"
      },
      "source": [
        "# Programação Orientada a Objetos"
      ]
    },
    {
      "cell_type": "code",
      "metadata": {
        "id": "MRkwmmalTUGp"
      },
      "source": [
        "class Sequence:\r\n",
        "  dna_sequence = 'atcg'"
      ],
      "execution_count": null,
      "outputs": []
    },
    {
      "cell_type": "code",
      "metadata": {
        "colab": {
          "base_uri": "https://localhost:8080/"
        },
        "id": "ZUhv17MQTnF4",
        "outputId": "ad7e803a-ed28-4ed3-f69b-44863fb454fe"
      },
      "source": [
        "sequence_1 = Sequence() \r\n",
        "sequence_1.dna_sequence = 'aatt'\r\n",
        "\r\n",
        "sequence_2 = Sequence() \r\n",
        "sequence_2.dna_sequence = 'aattccgg'\r\n",
        "\r\n",
        "print(sequence_1.dna_sequence)\r\n",
        "print(sequence_2.dna_sequence)"
      ],
      "execution_count": null,
      "outputs": [
        {
          "output_type": "stream",
          "text": [
            "aatt\n",
            "aattccgg\n"
          ],
          "name": "stdout"
        }
      ]
    },
    {
      "cell_type": "code",
      "metadata": {
        "colab": {
          "base_uri": "https://localhost:8080/"
        },
        "id": "Huy3NauKUgZv",
        "outputId": "0fec4cfa-6a2b-49f3-e2fa-d573a538218d"
      },
      "source": [
        "class Sequence:\r\n",
        "  def __init__(self, dna_sequence):\r\n",
        "    self.dna_sequence = dna_sequence\r\n",
        "\r\n",
        "  def transcribe(self):\r\n",
        "    return transcribe(self.dna_sequence)\r\n",
        "\r\n",
        "  def translate(self):\r\n",
        "    return translate(self.dna_sequence)\r\n",
        "\r\n",
        "# Implementar um método na classe \"Sequence\" que compute o conteúdo CG\r\n",
        "  def gc_content(self):\r\n",
        "    return gc_content(self.dna_sequence)\r\n",
        "\r\n",
        "sequence_3 = Sequence('atgccaa')\r\n",
        "\r\n",
        "print(sequence_3.dna_sequence)\r\n",
        "print(sequence_3.transcribe())\r\n",
        "print(sequence_3.translate())\r\n",
        "print(sequence_3.gc_content())"
      ],
      "execution_count": null,
      "outputs": [
        {
          "output_type": "stream",
          "text": [
            "atgccaa\n",
            "augccaa\n",
            "mp\n",
            "0.42857142857142855\n"
          ],
          "name": "stdout"
        }
      ]
    }
  ]
}


