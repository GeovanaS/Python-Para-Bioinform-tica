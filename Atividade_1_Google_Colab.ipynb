{
  "nbformat": 4,
  "nbformat_minor": 0,
  "metadata": {
    "colab": {
      "name": "Cópia de Atividade 1. Google Colab.ipynb",
      "provenance": [],
      "collapsed_sections": []
    },
    "kernelspec": {
      "name": "python3",
      "display_name": "Python 3"
    }
  },
  "cells": [
    {
      "cell_type": "markdown",
      "metadata": {
        "id": "zAAU4bxpKhco"
      },
      "source": [
        "**Exercício Colab: Curso python para bioinformática**"
      ]
    },
    {
      "cell_type": "markdown",
      "metadata": {
        "id": "5s0Oq99BKn96"
      },
      "source": [
        "# *exercício introdutório*\r\n",
        "## Instalar a biblioteca Pandas\r\n",
        "## Importar a biblioteca para o Colab"
      ]
    },
    {
      "cell_type": "code",
      "metadata": {
        "colab": {
          "base_uri": "https://localhost:8080/"
        },
        "id": "UdzzaTgFMRG2",
        "outputId": "12e914eb-07ee-4079-9082-64b09de5f68c"
      },
      "source": [
        "!pip install pandas\r\n",
        "\r\n",
        "# Manipulação e análise de dados\r\n",
        "import pandas as pd"
      ],
      "execution_count": 69,
      "outputs": [
        {
          "output_type": "stream",
          "text": [
            "Requirement already satisfied: pandas in /usr/local/lib/python3.6/dist-packages (1.1.5)\n",
            "Requirement already satisfied: numpy>=1.15.4 in /usr/local/lib/python3.6/dist-packages (from pandas) (1.19.5)\n",
            "Requirement already satisfied: pytz>=2017.2 in /usr/local/lib/python3.6/dist-packages (from pandas) (2018.9)\n",
            "Requirement already satisfied: python-dateutil>=2.7.3 in /usr/local/lib/python3.6/dist-packages (from pandas) (2.8.1)\n",
            "Requirement already satisfied: six>=1.5 in /usr/local/lib/python3.6/dist-packages (from python-dateutil>=2.7.3->pandas) (1.15.0)\n"
          ],
          "name": "stdout"
        }
      ]
    },
    {
      "cell_type": "markdown",
      "metadata": {
        "id": "V59LTNbkNnlG"
      },
      "source": [
        "![logo pandas](https://3.bp.blogspot.com/-TaW3lrBvdlE/W6DxT2vAPWI/AAAAAAAAEpI/uvNmmB1xIogPjcjZLtWKMDXK5sFTx_XXQCLcBGAs/s640/pandas.jpg)"
      ]
    },
    {
      "cell_type": "code",
      "metadata": {
        "colab": {
          "base_uri": "https://localhost:8080/"
        },
        "id": "YW3IcxgQOCtt",
        "outputId": "5212594f-1769-4668-e8f4-bdc16083dd19"
      },
      "source": [
        "#Criar duas variáveis (months e years) para descobrir quantos anos há em 45234 dias, considerando 30 dias em um mês\r\n",
        "months = 30 \r\n",
        "years = 45234/(months*12)\r\n",
        "print(years,\"anos\")"
      ],
      "execution_count": 70,
      "outputs": [
        {
          "output_type": "stream",
          "text": [
            "125.65 anos\n"
          ],
          "name": "stdout"
        }
      ]
    },
    {
      "cell_type": "code",
      "metadata": {
        "id": "CJwL73FfaiUj"
      },
      "source": [
        "#Criar duas variáveis (formula_days e formula_months) contendo uma fórmula para calcular automaticamente quantos dias há em determinado número de anos\r\n",
        "def formula_days(year):\r\n",
        "    formula_days = year * 360\r\n",
        "    return formula_days\r\n",
        "\r\n",
        "def formula_months(year):\r\n",
        "    formula_months = year * 12\r\n",
        "    return formula_months"
      ],
      "execution_count": 71,
      "outputs": []
    },
    {
      "cell_type": "code",
      "metadata": {
        "colab": {
          "base_uri": "https://localhost:8080/",
          "height": 227
        },
        "id": "MUwaXf-hU-I5",
        "outputId": "fbc02da5-6b92-4162-f73d-26a3a8bdef16"
      },
      "source": [
        "# Criar uma tabela com a correspondência entre dias, meses e anos encontrados no exercício anterior, discriminados em coluna\r\n",
        "df.columns=[\"dias\", \"meses\", \"anos\"]\r\n",
        "anos = [2, 3, 4, 5, 6, 7]\r\n",
        "for i in anos:\r\n",
        "    df.loc[i-2]=[formula_days(i), formula_months(i),i]\r\n",
        "df"
      ],
      "execution_count": 72,
      "outputs": [
        {
          "output_type": "execute_result",
          "data": {
            "text/html": [
              "<div>\n",
              "<style scoped>\n",
              "    .dataframe tbody tr th:only-of-type {\n",
              "        vertical-align: middle;\n",
              "    }\n",
              "\n",
              "    .dataframe tbody tr th {\n",
              "        vertical-align: top;\n",
              "    }\n",
              "\n",
              "    .dataframe thead th {\n",
              "        text-align: right;\n",
              "    }\n",
              "</style>\n",
              "<table border=\"1\" class=\"dataframe\">\n",
              "  <thead>\n",
              "    <tr style=\"text-align: right;\">\n",
              "      <th></th>\n",
              "      <th>dias</th>\n",
              "      <th>meses</th>\n",
              "      <th>anos</th>\n",
              "    </tr>\n",
              "  </thead>\n",
              "  <tbody>\n",
              "    <tr>\n",
              "      <th>0</th>\n",
              "      <td>720</td>\n",
              "      <td>24</td>\n",
              "      <td>2</td>\n",
              "    </tr>\n",
              "    <tr>\n",
              "      <th>1</th>\n",
              "      <td>1080</td>\n",
              "      <td>36</td>\n",
              "      <td>3</td>\n",
              "    </tr>\n",
              "    <tr>\n",
              "      <th>2</th>\n",
              "      <td>1440</td>\n",
              "      <td>48</td>\n",
              "      <td>4</td>\n",
              "    </tr>\n",
              "    <tr>\n",
              "      <th>3</th>\n",
              "      <td>1800</td>\n",
              "      <td>60</td>\n",
              "      <td>5</td>\n",
              "    </tr>\n",
              "    <tr>\n",
              "      <th>4</th>\n",
              "      <td>2160</td>\n",
              "      <td>72</td>\n",
              "      <td>6</td>\n",
              "    </tr>\n",
              "    <tr>\n",
              "      <th>5</th>\n",
              "      <td>2520</td>\n",
              "      <td>84</td>\n",
              "      <td>7</td>\n",
              "    </tr>\n",
              "  </tbody>\n",
              "</table>\n",
              "</div>"
            ],
            "text/plain": [
              "   dias meses anos\n",
              "0   720    24    2\n",
              "1  1080    36    3\n",
              "2  1440    48    4\n",
              "3  1800    60    5\n",
              "4  2160    72    6\n",
              "5  2520    84    7"
            ]
          },
          "metadata": {
            "tags": []
          },
          "execution_count": 72
        }
      ]
    }
  ]
}