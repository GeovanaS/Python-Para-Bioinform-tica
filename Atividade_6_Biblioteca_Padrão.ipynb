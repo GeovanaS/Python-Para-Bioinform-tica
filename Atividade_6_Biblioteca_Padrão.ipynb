{
  "nbformat": 4,
  "nbformat_minor": 0,
  "metadata": {
    "colab": {
      "name": "Atividade 6. Biblioteca Padrão.ipynb",
      "provenance": [],
      "collapsed_sections": []
    },
    "kernelspec": {
      "name": "python3",
      "display_name": "Python 3"
    }
  },
  "cells": [
    {
      "cell_type": "markdown",
      "metadata": {
        "id": "gRxKfi05D9LW"
      },
      "source": [
        "## **Aula 6 - Biblioteca Padrão**\r\n",
        "\r\n",
        "\r\n",
        "\r\n"
      ]
    },
    {
      "cell_type": "code",
      "metadata": {
        "id": "mAorWEh-EOxl",
        "colab": {
          "base_uri": "https://localhost:8080/",
          "height": 35
        },
        "outputId": "5e7c79ea-cad7-457f-e22e-19ac4bac7914"
      },
      "source": [
        "import os\r\n",
        "\r\n",
        "os.listdir()\r\n",
        "os.getcwd()\r\n",
        "#os.chdir('sample_data')\r\n",
        "#os.listdir()\r\n",
        "#os.chdir(\"..\")\r\n",
        "#os.getcwd()\r\n",
        "\r\n",
        "#os.mkdir(\"Nova_Pasta\")\r\n",
        "\r\n",
        "#Pastas = [\"Cachorro\", \"Gato\", \"Leopardo\", \"Machado\"]\r\n",
        "#for item in Pastas:\r\n",
        "  # os.mkdir(item)"
      ],
      "execution_count": null,
      "outputs": [
        {
          "output_type": "execute_result",
          "data": {
            "application/vnd.google.colaboratory.intrinsic+json": {
              "type": "string"
            },
            "text/plain": [
              "'/content'"
            ]
          },
          "metadata": {
            "tags": []
          },
          "execution_count": 2
        }
      ]
    },
    {
      "cell_type": "code",
      "metadata": {
        "colab": {
          "base_uri": "https://localhost:8080/",
          "height": 35
        },
        "id": "56RL3SkE3Abw",
        "outputId": "6c80048c-271a-4fe1-ae32-c488eb969ff5"
      },
      "source": [
        "import random\r\n",
        "\r\n",
        "#random.random()\r\n",
        "lista = [\"Azul\",\"Preto\",\"Vermelho\",\"Verde\",\"Laranja\"]\r\n",
        "random.choice(lista)\r\n",
        "#random.sample(range(100000), k=100)"
      ],
      "execution_count": 1,
      "outputs": [
        {
          "output_type": "execute_result",
          "data": {
            "application/vnd.google.colaboratory.intrinsic+json": {
              "type": "string"
            },
            "text/plain": [
              "'Laranja'"
            ]
          },
          "metadata": {
            "tags": []
          },
          "execution_count": 1
        }
      ]
    },
    {
      "cell_type": "code",
      "metadata": {
        "id": "QPxklqWs4NHn",
        "colab": {
          "base_uri": "https://localhost:8080/"
        },
        "outputId": "3b31de63-c7c4-4355-a16f-25cdd34bc633"
      },
      "source": [
        "import statistics\r\n",
        "\r\n",
        "data = [1, 3, 5, 6, 8, 10, 22, 40, 60]\r\n",
        "\r\n",
        "statistics.mean({10,20})\r\n",
        "#statistics.harmonic_mean(data)\r\n",
        "#statistics.stdev(data)\r\n",
        "#statistics.median(data)"
      ],
      "execution_count": 2,
      "outputs": [
        {
          "output_type": "execute_result",
          "data": {
            "text/plain": [
              "15"
            ]
          },
          "metadata": {
            "tags": []
          },
          "execution_count": 2
        }
      ]
    },
    {
      "cell_type": "code",
      "metadata": {
        "colab": {
          "base_uri": "https://localhost:8080/"
        },
        "id": "Ui-kPpEs8fsr",
        "outputId": "4aff51e1-76e7-45b5-fdc3-44fb014bb23c"
      },
      "source": [
        "import math\r\n",
        "\r\n",
        "#math.sqrt(154647)\r\n",
        "#math.pow(1054, 45)\r\n",
        "#math.sin(30)\r\n",
        "math.tan(30)"
      ],
      "execution_count": null,
      "outputs": [
        {
          "output_type": "execute_result",
          "data": {
            "text/plain": [
              "-6.405331196646276"
            ]
          },
          "metadata": {
            "tags": []
          },
          "execution_count": 5
        }
      ]
    },
    {
      "cell_type": "markdown",
      "metadata": {
        "id": "iazNH0IB9qYm"
      },
      "source": [
        "## **Atividades Aula 6**"
      ]
    },
    {
      "cell_type": "code",
      "metadata": {
        "colab": {
          "base_uri": "https://localhost:8080/",
          "height": 35
        },
        "id": "egGELKQL9vjF",
        "outputId": "3b4ee603-26b6-493e-dfc0-b9d37509272e"
      },
      "source": [
        "# Utilizando o módulo \"os\", mostre o nome atual diretório de trabalho\r\n",
        "os.getcwd()"
      ],
      "execution_count": null,
      "outputs": [
        {
          "output_type": "execute_result",
          "data": {
            "application/vnd.google.colaboratory.intrinsic+json": {
              "type": "string"
            },
            "text/plain": [
              "'/content'"
            ]
          },
          "metadata": {
            "tags": []
          },
          "execution_count": 6
        }
      ]
    },
    {
      "cell_type": "code",
      "metadata": {
        "colab": {
          "base_uri": "https://localhost:8080/"
        },
        "id": "CcNpwp5b-dT8",
        "outputId": "ed8cff3e-2bb0-478a-9a59-fc7bbf202936"
      },
      "source": [
        "# Utilizando o módulo \"statistics\", mostre a média dos valores presentes na lista \"[1, 2, 3, 5, 10, 25]\"\r\n",
        "import statistics\r\n",
        "\r\n",
        "lista = [1, 2, 3, 5, 10, 25]\r\n",
        "statistics.mean(lista)"
      ],
      "execution_count": null,
      "outputs": [
        {
          "output_type": "execute_result",
          "data": {
            "text/plain": [
              "7.666666666666667"
            ]
          },
          "metadata": {
            "tags": []
          },
          "execution_count": 7
        }
      ]
    }
  ]
}