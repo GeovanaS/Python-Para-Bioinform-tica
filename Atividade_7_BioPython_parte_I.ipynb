{
  "nbformat": 4,
  "nbformat_minor": 0,
  "metadata": {
    "colab": {
      "name": "Atividade 7. BioPython parte I.ipynb",
      "provenance": [],
      "collapsed_sections": []
    },
    "kernelspec": {
      "name": "python3",
      "display_name": "Python 3"
    }
  },
  "cells": [
    {
      "cell_type": "markdown",
      "metadata": {
        "id": "W39n1n9UC3wq"
      },
      "source": [
        "# **Aula 7 - BioPython - Parte I**\r\n"
      ]
    },
    {
      "cell_type": "code",
      "metadata": {
        "colab": {
          "base_uri": "https://localhost:8080/"
        },
        "id": "XW_pDz-IBnfP",
        "outputId": "f16b3e99-773e-4ab8-8361-43e704675acc"
      },
      "source": [
        "!pip install biopython"
      ],
      "execution_count": 29,
      "outputs": [
        {
          "output_type": "stream",
          "text": [
            "Requirement already satisfied: biopython in /usr/local/lib/python3.6/dist-packages (1.78)\n",
            "Requirement already satisfied: numpy in /usr/local/lib/python3.6/dist-packages (from biopython) (1.19.5)\n"
          ],
          "name": "stdout"
        }
      ]
    },
    {
      "cell_type": "code",
      "metadata": {
        "id": "ZLk9WQpkHZWf"
      },
      "source": [
        "from Bio.Seq import Seq"
      ],
      "execution_count": 30,
      "outputs": []
    },
    {
      "cell_type": "code",
      "metadata": {
        "colab": {
          "base_uri": "https://localhost:8080/"
        },
        "id": "g0iPvRVjHqGm",
        "outputId": "79e3f344-e582-47e7-8cc9-888ba330f9ad"
      },
      "source": [
        "sequence = Seq(\"TCGATCAGCTAGCATGCATCA\")\r\n",
        "#print(sequence.reverse_complement())\r\n",
        "sequence"
      ],
      "execution_count": 31,
      "outputs": [
        {
          "output_type": "execute_result",
          "data": {
            "text/plain": [
              "Seq('TCGATCAGCTAGCATGCATCA')"
            ]
          },
          "metadata": {
            "tags": []
          },
          "execution_count": 31
        }
      ]
    },
    {
      "cell_type": "code",
      "metadata": {
        "colab": {
          "base_uri": "https://localhost:8080/"
        },
        "id": "xf-cxLnLJr5S",
        "outputId": "eb488598-aaa6-4e94-eb56-ad0b6cc1cc51"
      },
      "source": [
        "sequence.transcribe()"
      ],
      "execution_count": 32,
      "outputs": [
        {
          "output_type": "execute_result",
          "data": {
            "text/plain": [
              "Seq('UCGAUCAGCUAGCAUGCAUCA')"
            ]
          },
          "metadata": {
            "tags": []
          },
          "execution_count": 32
        }
      ]
    },
    {
      "cell_type": "code",
      "metadata": {
        "colab": {
          "base_uri": "https://localhost:8080/"
        },
        "id": "ik9Rm32uJuKa",
        "outputId": "970a5d35-1beb-4430-df0d-b72f75c87011"
      },
      "source": [
        "sequence.translate()"
      ],
      "execution_count": 33,
      "outputs": [
        {
          "output_type": "execute_result",
          "data": {
            "text/plain": [
              "Seq('SIS*HAS')"
            ]
          },
          "metadata": {
            "tags": []
          },
          "execution_count": 33
        }
      ]
    },
    {
      "cell_type": "code",
      "metadata": {
        "colab": {
          "base_uri": "https://localhost:8080/"
        },
        "id": "fRiyp1UBJzgB",
        "outputId": "2059cbec-2884-4f1e-9925-b8c91fe46403"
      },
      "source": [
        "sequence.reverse_complement()"
      ],
      "execution_count": 34,
      "outputs": [
        {
          "output_type": "execute_result",
          "data": {
            "text/plain": [
              "Seq('TGATGCATGCTAGCTGATCGA')"
            ]
          },
          "metadata": {
            "tags": []
          },
          "execution_count": 34
        }
      ]
    },
    {
      "cell_type": "code",
      "metadata": {
        "colab": {
          "base_uri": "https://localhost:8080/"
        },
        "id": "onxPs9rEJ3fg",
        "outputId": "cf2060f7-fd11-4564-bd91-3f82126168bb"
      },
      "source": [
        "sequence[0:3]"
      ],
      "execution_count": 35,
      "outputs": [
        {
          "output_type": "execute_result",
          "data": {
            "text/plain": [
              "Seq('TCG')"
            ]
          },
          "metadata": {
            "tags": []
          },
          "execution_count": 35
        }
      ]
    },
    {
      "cell_type": "code",
      "metadata": {
        "id": "4rGX-xC8J6ux"
      },
      "source": [
        "from Bio.SeqRecord import SeqRecord\r\n",
        "from Bio.SeqFeature import SeqFeature, FeatureLocation "
      ],
      "execution_count": 36,
      "outputs": []
    },
    {
      "cell_type": "code",
      "metadata": {
        "id": "FsxUpNd9KO8p"
      },
      "source": [
        "sequence = Seq(\"ATGGCAAAAGAGTGA\")\r\n",
        "\r\n",
        "features = [\r\n",
        "   SeqFeature(FeatureLocation(0, 15, strand=1), type=\"gene\", qualifiers={'locus_tag':['omx_0001'], \"gene\":[\"omX\"]})\r\n",
        "]\r\n",
        "\r\n",
        "record = SeqRecord(\r\n",
        "     sequence,\r\n",
        "     id = \"OMX0001.1\",\r\n",
        "     name = \"omX\",\r\n",
        "     description = \"omixicin\",\r\n",
        "     annotations={\"molecule_type\":\"DNA\"},\r\n",
        "     features=features\r\n",
        " )"
      ],
      "execution_count": 37,
      "outputs": []
    },
    {
      "cell_type": "code",
      "metadata": {
        "colab": {
          "base_uri": "https://localhost:8080/"
        },
        "id": "HBlE7Lh__LPG",
        "outputId": "43eeae80-53e5-4931-c24c-7fd94c42cff3"
      },
      "source": [
        "print(record.format(\"genbank\"))"
      ],
      "execution_count": 38,
      "outputs": [
        {
          "output_type": "stream",
          "text": [
            "LOCUS       omX                       15 bp    DNA              UNK 01-JAN-1980\n",
            "DEFINITION  omixicin.\n",
            "ACCESSION   OMX0001\n",
            "VERSION     OMX0001.1\n",
            "KEYWORDS    .\n",
            "SOURCE      .\n",
            "  ORGANISM  .\n",
            "            .\n",
            "FEATURES             Location/Qualifiers\n",
            "     gene            1..15\n",
            "                     /locus_tag=\"omx_0001\"\n",
            "                     /gene=\"omX\"\n",
            "ORIGIN\n",
            "        1 atggcaaaag agtga\n",
            "//\n",
            "\n"
          ],
          "name": "stdout"
        }
      ]
    },
    {
      "cell_type": "code",
      "metadata": {
        "colab": {
          "base_uri": "https://localhost:8080/"
        },
        "id": "nWMss7NP_y9L",
        "outputId": "9f1b4841-2257-477c-c43d-70e3e6877a97"
      },
      "source": [
        "print(record.format(\"embl\"))"
      ],
      "execution_count": 39,
      "outputs": [
        {
          "output_type": "stream",
          "text": [
            "ID   OMX0001; SV 1; ; DNA; ; UNC; 15 BP.\n",
            "XX\n",
            "AC   OMX0001;\n",
            "XX\n",
            "DE   omixicin\n",
            "XX\n",
            "OS   .\n",
            "OC   .\n",
            "XX\n",
            "FH   Key             Location/Qualifiers\n",
            "FH\n",
            "FT   gene            1..15\n",
            "FT                   /locus_tag=\"omx_0001\"\n",
            "FT                   /gene=\"omX\"\n",
            "XX\n",
            "SQ   Sequence 15 BP; 7 A; 1 C; 5 G; 2 T; 0 other;\n",
            "     atggcaaaag agtga                                                         15\n",
            "//\n",
            "\n"
          ],
          "name": "stdout"
        }
      ]
    },
    {
      "cell_type": "code",
      "metadata": {
        "colab": {
          "base_uri": "https://localhost:8080/"
        },
        "id": "9L42w_0t_34s",
        "outputId": "2a40569b-6cf4-49d3-fb5d-9c1a4605267d"
      },
      "source": [
        "print(record.format(\"fasta\"))"
      ],
      "execution_count": 40,
      "outputs": [
        {
          "output_type": "stream",
          "text": [
            ">OMX0001.1 omixicin\n",
            "ATGGCAAAAGAGTGA\n",
            "\n"
          ],
          "name": "stdout"
        }
      ]
    },
    {
      "cell_type": "code",
      "metadata": {
        "id": "PtyZSN5E_7pb"
      },
      "source": [
        "from Bio import SeqIO\r\n",
        "\r\n",
        "with open('annotation.gb','w') as writer:\r\n",
        "  SeqIO.write([record], writer, 'genbank')"
      ],
      "execution_count": 41,
      "outputs": []
    },
    {
      "cell_type": "code",
      "metadata": {
        "colab": {
          "base_uri": "https://localhost:8080/"
        },
        "id": "RnI7Cv1jBscS",
        "outputId": "7f34e919-db93-4ae0-cc87-58f83c4b0d02"
      },
      "source": [
        "with open('annotation.gb','r') as reader:\r\n",
        "  parser = SeqIO.parse(reader,'genbank')\r\n",
        "  for record in parser:\r\n",
        "     for feature in record.features:\r\n",
        "       print(feature.type,feature.location.start, feature.location.end)\r\n",
        "  #print(record.id)"
      ],
      "execution_count": 42,
      "outputs": [
        {
          "output_type": "stream",
          "text": [
            "gene 0 15\n"
          ],
          "name": "stdout"
        }
      ]
    }
  ]
}