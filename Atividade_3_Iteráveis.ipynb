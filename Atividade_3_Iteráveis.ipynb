{
  "nbformat": 4,
  "nbformat_minor": 0,
  "metadata": {
    "colab": {
      "name": "Atividade 3. Iteráveis.ipynb",
      "provenance": [],
      "collapsed_sections": []
    },
    "kernelspec": {
      "name": "python3",
      "display_name": "Python 3"
    }
  },
  "cells": [
    {
      "cell_type": "markdown",
      "metadata": {
        "id": "8itihutIwjdT"
      },
      "source": [
        "# **Aula 3 - Iteráveis**"
      ]
    },
    {
      "cell_type": "code",
      "metadata": {
        "colab": {
          "base_uri": "https://localhost:8080/"
        },
        "id": "pWOY6S7gwvVd",
        "outputId": "289b299a-faf4-44e2-e331-2613a5031b0e"
      },
      "source": [
        "sequence = \"TCAGCTAGCATGCATGA\"\r\n",
        "print(\"primeiro nucleotideo:\", sequence[0])\r\n",
        "print(\"ultimo nucleotideo:\", sequence[-1])"
      ],
      "execution_count": null,
      "outputs": [
        {
          "output_type": "stream",
          "text": [
            "primeiro nucleotideo: T\n",
            "ultimo nucleotideo: A\n"
          ],
          "name": "stdout"
        }
      ]
    },
    {
      "cell_type": "code",
      "metadata": {
        "colab": {
          "base_uri": "https://localhost:8080/",
          "height": 35
        },
        "id": "wlGLCpYDyR8u",
        "outputId": "86fad97b-6656-486a-a41a-d74ddb0b6c52"
      },
      "source": [
        "sequence[0:5]"
      ],
      "execution_count": null,
      "outputs": [
        {
          "output_type": "execute_result",
          "data": {
            "application/vnd.google.colaboratory.intrinsic+json": {
              "type": "string"
            },
            "text/plain": [
              "'TCAGC'"
            ]
          },
          "metadata": {
            "tags": []
          },
          "execution_count": 10
        }
      ]
    },
    {
      "cell_type": "code",
      "metadata": {
        "colab": {
          "base_uri": "https://localhost:8080/",
          "height": 35
        },
        "id": "cq64Vsz3ydYi",
        "outputId": "acf65214-d8fc-4918-fb0f-91ac9361dc42"
      },
      "source": [
        "sequence[0:5:2]"
      ],
      "execution_count": null,
      "outputs": [
        {
          "output_type": "execute_result",
          "data": {
            "application/vnd.google.colaboratory.intrinsic+json": {
              "type": "string"
            },
            "text/plain": [
              "'TAC'"
            ]
          },
          "metadata": {
            "tags": []
          },
          "execution_count": 11
        }
      ]
    },
    {
      "cell_type": "code",
      "metadata": {
        "colab": {
          "base_uri": "https://localhost:8080/"
        },
        "id": "ng4lYqZUyjj9",
        "outputId": "f3d2dd74-71c5-4c64-f3ce-1d712edd42fc"
      },
      "source": [
        "list(range(0, 20, 4))"
      ],
      "execution_count": null,
      "outputs": [
        {
          "output_type": "execute_result",
          "data": {
            "text/plain": [
              "[0, 4, 8, 12, 16]"
            ]
          },
          "metadata": {
            "tags": []
          },
          "execution_count": 12
        }
      ]
    },
    {
      "cell_type": "code",
      "metadata": {
        "colab": {
          "base_uri": "https://localhost:8080/",
          "height": 35
        },
        "id": "q_65H2SlyxvY",
        "outputId": "11b4fd51-c3ee-4658-e0fd-40980383281f"
      },
      "source": [
        "sequence[::-1]"
      ],
      "execution_count": null,
      "outputs": [
        {
          "output_type": "execute_result",
          "data": {
            "application/vnd.google.colaboratory.intrinsic+json": {
              "type": "string"
            },
            "text/plain": [
              "'AGTACGTACGATCGACT'"
            ]
          },
          "metadata": {
            "tags": []
          },
          "execution_count": 14
        }
      ]
    },
    {
      "cell_type": "code",
      "metadata": {
        "colab": {
          "base_uri": "https://localhost:8080/"
        },
        "id": "C8qxjZIcy9oh",
        "outputId": "004a581e-c8e7-46c1-bf1c-e7a30767e581"
      },
      "source": [
        "numbers = [1, 2, 3, 4, 5, 6, 7]\r\n",
        "numbers[0:5:2]"
      ],
      "execution_count": null,
      "outputs": [
        {
          "output_type": "execute_result",
          "data": {
            "text/plain": [
              "[1, 3, 5]"
            ]
          },
          "metadata": {
            "tags": []
          },
          "execution_count": 15
        }
      ]
    },
    {
      "cell_type": "code",
      "metadata": {
        "colab": {
          "base_uri": "https://localhost:8080/"
        },
        "id": "0avu14N1zTZf",
        "outputId": "8cadb2ba-9213-4b4c-8df2-d460a3da725d"
      },
      "source": [
        "for nucleotide in sequence:\r\n",
        "   print(nucleotide)"
      ],
      "execution_count": null,
      "outputs": [
        {
          "output_type": "stream",
          "text": [
            "T\n",
            "C\n",
            "A\n",
            "G\n",
            "C\n",
            "T\n",
            "A\n",
            "G\n",
            "C\n",
            "A\n",
            "T\n",
            "G\n",
            "C\n",
            "A\n",
            "T\n",
            "G\n",
            "A\n"
          ],
          "name": "stdout"
        }
      ]
    },
    {
      "cell_type": "code",
      "metadata": {
        "colab": {
          "base_uri": "https://localhost:8080/"
        },
        "id": "WksXc1CZ4H4Z",
        "outputId": "b325d019-98a0-4749-9bce-e9bdddb50c6e"
      },
      "source": [
        "for number in numbers:\r\n",
        "  print(number)"
      ],
      "execution_count": null,
      "outputs": [
        {
          "output_type": "stream",
          "text": [
            "1\n",
            "2\n",
            "3\n",
            "4\n",
            "5\n",
            "6\n",
            "7\n"
          ],
          "name": "stdout"
        }
      ]
    },
    {
      "cell_type": "code",
      "metadata": {
        "colab": {
          "base_uri": "https://localhost:8080/"
        },
        "id": "qSCTH2DYzyk9",
        "outputId": "d55fe788-af18-402a-9934-eb80fbc8b2a9"
      },
      "source": [
        "sequence_info = {'gene': 'onX', 'organism': 'Escherichia coli', 'function': 'unknown' }\r\n",
        "\r\n",
        "for info, value in sequence_info.items():\r\n",
        "  print(info,value)"
      ],
      "execution_count": null,
      "outputs": [
        {
          "output_type": "stream",
          "text": [
            "gene onX\n",
            "organism Escherichia coli\n",
            "function unknown\n"
          ],
          "name": "stdout"
        }
      ]
    },
    {
      "cell_type": "markdown",
      "metadata": {
        "id": "xlQb8ATc5AvB"
      },
      "source": [
        "# **Atividades**\r\n",
        "## **Aula 3**"
      ]
    },
    {
      "cell_type": "code",
      "metadata": {
        "id": "r_Ot80doGQwP"
      },
      "source": [
        "sequencia =  \"ATGTCCGAATGATAA\""
      ],
      "execution_count": null,
      "outputs": []
    },
    {
      "cell_type": "code",
      "metadata": {
        "colab": {
          "base_uri": "https://localhost:8080/",
          "height": 35
        },
        "id": "AxT133irHD5w",
        "outputId": "a5c24de7-5049-4a31-f5f2-3ef2948b0b28"
      },
      "source": [
        "# Utilizando slices, selecione os primeiros 3 nucleotídeos da sequência\r\n",
        "sequencia[0:3]"
      ],
      "execution_count": null,
      "outputs": [
        {
          "output_type": "execute_result",
          "data": {
            "application/vnd.google.colaboratory.intrinsic+json": {
              "type": "string"
            },
            "text/plain": [
              "'ATG'"
            ]
          },
          "metadata": {
            "tags": []
          },
          "execution_count": 5
        }
      ]
    },
    {
      "cell_type": "code",
      "metadata": {
        "colab": {
          "base_uri": "https://localhost:8080/",
          "height": 35
        },
        "id": "u6xGPIGVHZUv",
        "outputId": "9ab6372a-edb5-4c8d-ffc0-909fff82384e"
      },
      "source": [
        "# Utilizando slices, selecione os últimos 3 nucleotídeos da sequência\r\n",
        "sequencia[-3:]"
      ],
      "execution_count": null,
      "outputs": [
        {
          "output_type": "execute_result",
          "data": {
            "application/vnd.google.colaboratory.intrinsic+json": {
              "type": "string"
            },
            "text/plain": [
              "'TAA'"
            ]
          },
          "metadata": {
            "tags": []
          },
          "execution_count": 9
        }
      ]
    }
  ]
}