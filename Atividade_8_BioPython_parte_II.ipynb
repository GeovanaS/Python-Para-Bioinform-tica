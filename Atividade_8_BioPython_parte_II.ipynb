{
  "nbformat": 4,
  "nbformat_minor": 0,
  "metadata": {
    "colab": {
      "name": "Atividade 8. BioPython parte II.ipynb",
      "provenance": [],
      "collapsed_sections": []
    },
    "kernelspec": {
      "name": "python3",
      "display_name": "Python 3"
    }
  },
  "cells": [
    {
      "cell_type": "markdown",
      "metadata": {
        "id": "IcuRgIbnLlHs"
      },
      "source": [
        "## **Aula 8. BioPython Parte II: BLAST**\r\n",
        "\r\n",
        "\r\n",
        "\r\n",
        "\r\n"
      ]
    },
    {
      "cell_type": "code",
      "metadata": {
        "colab": {
          "base_uri": "https://localhost:8080/"
        },
        "id": "h-JQx5MbLR5N",
        "outputId": "78c43e1b-0762-4e68-d8b2-741aac598bf6"
      },
      "source": [
        "!pip install biopython\r\n",
        "!apt install ncbi-blast+"
      ],
      "execution_count": 7,
      "outputs": [
        {
          "output_type": "stream",
          "text": [
            "Requirement already satisfied: biopython in /usr/local/lib/python3.6/dist-packages (1.78)\n",
            "Requirement already satisfied: numpy in /usr/local/lib/python3.6/dist-packages (from biopython) (1.19.5)\n",
            "Reading package lists... Done\n",
            "Building dependency tree       \n",
            "Reading state information... Done\n",
            "ncbi-blast+ is already the newest version (2.6.0-1).\n",
            "0 upgraded, 0 newly installed, 0 to remove and 16 not upgraded.\n"
          ],
          "name": "stdout"
        }
      ]
    },
    {
      "cell_type": "code",
      "metadata": {
        "id": "hNEukkWzMQ_3"
      },
      "source": [
        "from Bio.Blast import NCBIXML\r\n",
        "from Bio.Blast.Applications import NcbimakeblastdbCommandline, NcbiblastpCommandline"
      ],
      "execution_count": 8,
      "outputs": []
    },
    {
      "cell_type": "code",
      "metadata": {
        "colab": {
          "base_uri": "https://localhost:8080/"
        },
        "id": "vSk938DqNWoq",
        "outputId": "048acf87-2cd8-485d-d253-0fec1bfd4850"
      },
      "source": [
        "makeblastdb = NcbimakeblastdbCommandline(input_file=\"proteins.fasta\", dbtype=\"prot\", out=\"database\")\r\n",
        "makeblastdb()"
      ],
      "execution_count": 10,
      "outputs": [
        {
          "output_type": "execute_result",
          "data": {
            "text/plain": [
              "('\\n\\nBuilding a new DB, current time: 01/14/2021 04:49:46\\nNew DB name:   /content/database\\nNew DB title:  proteins.fasta\\nSequence type: Protein\\nKeep MBits: T\\nMaximum file size: 1000000000B\\nAdding sequences from FASTA; added 457 sequences in 0.0174301 seconds.\\n',\n",
              " '')"
            ]
          },
          "metadata": {
            "tags": []
          },
          "execution_count": 10
        }
      ]
    },
    {
      "cell_type": "code",
      "metadata": {
        "colab": {
          "base_uri": "https://localhost:8080/"
        },
        "id": "6AidCy6sO210",
        "outputId": "c85ffc5d-029f-4eb5-f47e-c96399c9f539"
      },
      "source": [
        "blastp = NcbiblastpCommandline(query=\"query.fasta\", db=\"database\", out=\"result.xml\", outfmt=5)\r\n",
        "blastp()"
      ],
      "execution_count": 12,
      "outputs": [
        {
          "output_type": "execute_result",
          "data": {
            "text/plain": [
              "('', '')"
            ]
          },
          "metadata": {
            "tags": []
          },
          "execution_count": 12
        }
      ]
    },
    {
      "cell_type": "code",
      "metadata": {
        "colab": {
          "base_uri": "https://localhost:8080/"
        },
        "id": "8WpymhfVUora",
        "outputId": "22e2e9f8-30ea-4dc5-f624-d8ebbcfb3473"
      },
      "source": [
        "reader = open(\"result.xml\",\"r\")\r\n",
        "parser = NCBIXML.parse(reader)\r\n",
        "\r\n",
        "for record in parser:\r\n",
        "  for alignment in record.alignments:\r\n",
        "    for hsp in alignment.hsps:\r\n",
        "      evalue = hsp.expect\r\n",
        "      break\r\n",
        "    print(record.query.split(' ')[0], alignment.hit_def.split(' ')[0], evalue, sep=\",\")  "
      ],
      "execution_count": 28,
      "outputs": [
        {
          "output_type": "stream",
          "text": [
            "sp|P0DTC2|SPIKE_SARS2,sp|P0DTC2|SPIKE_SARS2,0.0\n",
            "sp|P0DTC2|SPIKE_SARS2,sp|P59594|SPIKE_SARS,0.0\n",
            "sp|P0DTC2|SPIKE_SARS2,sp|Q3LZX1|SPIKE_BCHK3,0.0\n",
            "sp|P0DTC2|SPIKE_SARS2,sp|Q3I5J5|SPIKE_BCRP3,0.0\n",
            "sp|P0DTC2|SPIKE_SARS2,sp|Q0Q475|SPIKE_BC279,0.0\n",
            "sp|P0DTC2|SPIKE_SARS2,sp|A3EXG6|SPIKE_BCHK9,0.0\n",
            "sp|P0DTC2|SPIKE_SARS2,sp|A3EXD0|SPIKE_BCHK5,0.0\n",
            "sp|P0DTC2|SPIKE_SARS2,sp|Q0Q4F2|SPIKE_BC133,0.0\n",
            "sp|P0DTC2|SPIKE_SARS2,sp|K9N5Q8|SPIKE_MERS1,2.70519e-176\n",
            "sp|P0DTC2|SPIKE_SARS2,sp|P11225|SPIKE_CVMJH,7.36478e-167\n",
            "sp|P0DTC2|SPIKE_SARS2,sp|A3EX94|SPIKE_BCHK4,1.2832e-155\n",
            "sp|P0DTC2|SPIKE_SARS2,sp|P25192|SPIKE_CVBLY,1.32759e-150\n",
            "sp|P0DTC2|SPIKE_SARS2,sp|Q9QAQ8|SPIKE_CVBOK,1.39721e-150\n",
            "sp|P0DTC2|SPIKE_SARS2,sp|Q91A26|SPIKE_CVBEN,2.2133e-150\n",
            "sp|P0DTC2|SPIKE_SARS2,sp|Q8V436|SPIKE_CVBLU,2.94666e-150\n",
            "sp|P0DTC2|SPIKE_SARS2,sp|Q9QAR5|SPIKE_CVBLS,5.55262e-150\n",
            "sp|P0DTC2|SPIKE_SARS2,sp|P25194|SPIKE_CVBV,4.69475e-149\n",
            "sp|P0DTC2|SPIKE_SARS2,sp|P25191|SPIKE_CVBL9,4.00341e-148\n",
            "sp|P0DTC2|SPIKE_SARS2,sp|P15777|SPIKE_CVBM,1.05504e-147\n",
            "sp|P0DTC2|SPIKE_SARS2,sp|P25190|SPIKE_CVBF,1.09897e-147\n",
            "sp|P0DTC2|SPIKE_SARS2,sp|P25193|SPIKE_CVBQ,2.3147e-146\n",
            "sp|P0DTC2|SPIKE_SARS2,sp|Q0ZME7|SPIKE_CVHN5,6.39918e-144\n",
            "sp|P0DTC2|SPIKE_SARS2,sp|Q14EB0|SPIKE_CVHN2,1.95834e-143\n",
            "sp|P0DTC2|SPIKE_SARS2,sp|P36334|SPIKE_CVHOC,4.30846e-143\n",
            "sp|P0DTC2|SPIKE_SARS2,sp|P11224|SPIKE_CVMA5,1.94419e-141\n",
            "sp|P0DTC2|SPIKE_SARS2,sp|Q02385|SPIKE_CVMJC,8.87915e-141\n",
            "sp|P0DTC2|SPIKE_SARS2,sp|P22432|SPIKE_CVM4,1.05469e-140\n",
            "sp|P0DTC2|SPIKE_SARS2,sp|Q9IKD1|SPIKE_CVRSD,1.34485e-139\n",
            "sp|P0DTC2|SPIKE_SARS2,sp|Q5MQD0|SPIKE_CVHN1,1.13877e-138\n",
            "sp|P0DTC2|SPIKE_SARS2,sp|P15423|SPIKE_CVH22,5.76231e-108\n",
            "sp|P0DTC2|SPIKE_SARS2,sp|P12650|SPIKE_IBVK,4.59326e-104\n",
            "sp|P0DTC2|SPIKE_SARS2,sp|P12651|SPIKE_IBVM,6.48226e-103\n",
            "sp|P0DTC2|SPIKE_SARS2,sp|P05135|SPIKE_IBV6,4.85268e-102\n",
            "sp|P0DTC2|SPIKE_SARS2,sp|Q6Q1S2|SPIKE_CVHNL,8.89214e-102\n",
            "sp|P0DTC2|SPIKE_SARS2,sp|P12722|SPIKE_IBVD2,1.20762e-101\n",
            "sp|P0DTC2|SPIKE_SARS2,sp|P27655|SPIKE_CVPR8,1.06041e-100\n",
            "sp|P0DTC2|SPIKE_SARS2,sp|P11223|SPIKE_IBVB,4.52663e-100\n",
            "sp|P0DTC2|SPIKE_SARS2,sp|P24413|SPIKE_CVPRM,9.21036e-99\n",
            "sp|P0DTC2|SPIKE_SARS2,sp|Q65984|SPIKE_CVCAK,4.24745e-98\n",
            "sp|P0DTC2|SPIKE_SARS2,sp|Q0Q466|SPIKE_BC512,9.61583e-98\n",
            "sp|P0DTC2|SPIKE_SARS2,sp|P10033|SPIKE_FIPV,2.10031e-97\n",
            "sp|P0DTC2|SPIKE_SARS2,sp|P07946|SPIKE_CVPPU,2.84023e-97\n",
            "sp|P0DTC2|SPIKE_SARS2,sp|Q7T6T3|SPIKE_CVCBG,3.13666e-97\n",
            "sp|P0DTC2|SPIKE_SARS2,sp|P33470|SPIKE_CVPMI,1.14318e-96\n",
            "sp|P0DTC2|SPIKE_SARS2,sp|Q01977|SPIKE_CVPRT,2.64316e-96\n",
            "sp|P0DTC2|SPIKE_SARS2,sp|P18450|SPIKE_CVPFS,1.19678e-95\n",
            "sp|P0DTC2|SPIKE_SARS2,sp|P36300|SPIKE_CVCAI,2.26923e-94\n",
            "sp|P0DTC2|SPIKE_SARS2,sp|P19743|NS7B_FIPV,0.894905\n",
            "sp|P0DTC2|SPIKE_SARS2,sp|P0C6X1|R1AB_CVH22,3.28685\n",
            "sp|P0DTC2|SPIKE_SARS2,sp|Q0ZME4|VME1_CVHN5,3.71136\n",
            "sp|P0DTC2|SPIKE_SARS2,sp|Q14EA7|VME1_CVHN2,3.81065\n",
            "sp|P0DTC2|SPIKE_SARS2,sp|P0C6V1|R1A_CVMJH,5.09906\n",
            "sp|P0DTC2|SPIKE_SARS2,sp|P0C6Y0|R1AB_CVMJH,6.0231\n",
            "sp|P0DTC2|SPIKE_SARS2,sp|P0C6U9|R1A_CVM2,6.39683\n",
            "sp|P0DTC2|SPIKE_SARS2,sp|P0C6X8|R1AB_CVM2,6.44129\n",
            "sp|P0DTC2|SPIKE_SARS2,sp|Q5MQC7|VME1_CVHN1,6.57377\n",
            "sp|P0DTC2|SPIKE_SARS2,sp|P0C6X4|R1AB_CVHN5,7.18477\n",
            "sp|P0DTC2|SPIKE_SARS2,sp|P0C6X2|R1AB_CVHN1,7.24595\n",
            "sp|P0DTC2|SPIKE_SARS2,sp|P30207|SPIKE_IBVU2,7.69808\n",
            "sp|P0DTC2|SPIKE_SARS2,sp|P30206|SPIKE_IBVU1,7.9651\n",
            "sp|P0DTC2|SPIKE_SARS2,sp|P17662|SPIKE_IBVD3,8.17849\n",
            "sp|P0DTC2|SPIKE_SARS2,sp|P30208|SPIKE_IBVU3,8.31194\n",
            "sp|P0DTC2|SPIKE_SARS2,sp|P0C6X3|R1AB_CVHN2,8.49969\n"
          ],
          "name": "stdout"
        }
      ]
    }
  ]
}

